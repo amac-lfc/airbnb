{
 "cells": [
  {
   "cell_type": "code",
   "execution_count": 1,
   "metadata": {},
   "outputs": [],
   "source": [
    "import pandas as pd\n",
    "import numpy as np\n",
    "### packages for spatial analysis \n",
    "import osmnx as ox   # for finding objects within a given radius \n",
    "import openrouteservice as ors   # for finding the walking distance in seconds and meters to a given point \n",
    "### for promting to choose a file \n",
    "from tqdm import tqdm\n",
    "### others \n",
    "import re\n",
    "import requests\n",
    "import time\n",
    "from openrouteservice import client, places"
   ]
  },
  {
   "cell_type": "code",
   "execution_count": 2,
   "metadata": {},
   "outputs": [],
   "source": [
    "data = pd.read_csv('data/sample_50.csv')"
   ]
  },
  {
   "cell_type": "code",
   "execution_count": 3,
   "metadata": {},
   "outputs": [],
   "source": [
    "import openrouteservice\n",
    "\n",
    "coords = ((8.34234,48.23424),(8.34423,48.26424))\n",
    "\n",
    "client = openrouteservice.Client(key='5b3ce3597851110001cf6248b6aea3f1231b43dbb20b9729e00037d2') # Specify your personal API key\n",
    "#routes = client.directions(coords)\n",
    "\n",
    "#print(routes)"
   ]
  },
  {
   "cell_type": "code",
   "execution_count": 8,
   "metadata": {},
   "outputs": [
    {
     "name": "stderr",
     "output_type": "stream",
     "text": [
      "Subway:   2%|█▌                                                                         | 1/50 [00:03<03:12,  3.94s/it]"
     ]
    },
    {
     "name": "stdout",
     "output_type": "stream",
     "text": [
      "Listing #: 1\n",
      "CTA Length so far: 1\n"
     ]
    },
    {
     "name": "stderr",
     "output_type": "stream",
     "text": [
      "Subway:   4%|███                                                                        | 2/50 [00:12<04:17,  5.37s/it]"
     ]
    },
    {
     "name": "stdout",
     "output_type": "stream",
     "text": [
      "Listing #: 2\n",
      "CTA Length so far: 2\n"
     ]
    },
    {
     "name": "stderr",
     "output_type": "stream",
     "text": [
      "Subway:   6%|████▌                                                                      | 3/50 [00:17<04:10,  5.32s/it]"
     ]
    },
    {
     "name": "stdout",
     "output_type": "stream",
     "text": [
      "Listing #: 3\n",
      "CTA Length so far: 3\n"
     ]
    },
    {
     "name": "stderr",
     "output_type": "stream",
     "text": [
      "Subway:   8%|██████                                                                     | 4/50 [00:21<03:40,  4.80s/it]"
     ]
    },
    {
     "name": "stdout",
     "output_type": "stream",
     "text": [
      "Listing #: 4\n",
      "CTA Length so far: 4\n"
     ]
    },
    {
     "name": "stderr",
     "output_type": "stream",
     "text": [
      "Subway:  10%|███████▌                                                                   | 5/50 [00:25<03:25,  4.56s/it]"
     ]
    },
    {
     "name": "stdout",
     "output_type": "stream",
     "text": [
      "Listing #: 5\n",
      "CTA Length so far: 5\n"
     ]
    },
    {
     "name": "stderr",
     "output_type": "stream",
     "text": [
      "Subway:  12%|█████████                                                                  | 6/50 [00:28<03:02,  4.15s/it]"
     ]
    },
    {
     "name": "stdout",
     "output_type": "stream",
     "text": [
      "Listing #: 6\n",
      "CTA Length so far: 6\n"
     ]
    },
    {
     "name": "stderr",
     "output_type": "stream",
     "text": [
      "Subway:  14%|██████████▌                                                                | 7/50 [00:32<02:57,  4.13s/it]"
     ]
    },
    {
     "name": "stdout",
     "output_type": "stream",
     "text": [
      "Listing #: 7\n",
      "CTA Length so far: 7\n"
     ]
    },
    {
     "name": "stderr",
     "output_type": "stream",
     "text": [
      "Subway:  16%|████████████                                                               | 8/50 [00:35<02:37,  3.75s/it]"
     ]
    },
    {
     "name": "stdout",
     "output_type": "stream",
     "text": [
      "Listing #: 8\n",
      "CTA Length so far: 8\n"
     ]
    },
    {
     "name": "stderr",
     "output_type": "stream",
     "text": [
      "Subway:  18%|█████████████▌                                                             | 9/50 [00:39<02:30,  3.67s/it]"
     ]
    },
    {
     "name": "stdout",
     "output_type": "stream",
     "text": [
      "Listing #: 9\n",
      "CTA Length so far: 9\n"
     ]
    },
    {
     "name": "stderr",
     "output_type": "stream",
     "text": [
      "Subway:  20%|██████████████▊                                                           | 10/50 [00:42<02:22,  3.55s/it]"
     ]
    },
    {
     "name": "stdout",
     "output_type": "stream",
     "text": [
      "Listing #: 10\n",
      "CTA Length so far: 10\n"
     ]
    },
    {
     "name": "stderr",
     "output_type": "stream",
     "text": [
      "Subway:  22%|████████████████▎                                                         | 11/50 [00:46<02:22,  3.65s/it]"
     ]
    },
    {
     "name": "stdout",
     "output_type": "stream",
     "text": [
      "Listing #: 11\n",
      "CTA Length so far: 11\n"
     ]
    },
    {
     "name": "stderr",
     "output_type": "stream",
     "text": [
      "Subway:  24%|█████████████████▊                                                        | 12/50 [00:54<03:09,  4.99s/it]"
     ]
    },
    {
     "name": "stdout",
     "output_type": "stream",
     "text": [
      "Listing #: 12\n",
      "CTA Length so far: 12\n"
     ]
    },
    {
     "name": "stderr",
     "output_type": "stream",
     "text": [
      "Subway:  26%|███████████████████▏                                                      | 13/50 [01:04<03:57,  6.41s/it]"
     ]
    },
    {
     "name": "stdout",
     "output_type": "stream",
     "text": [
      "Listing #: 13\n",
      "CTA Length so far: 13\n"
     ]
    },
    {
     "name": "stderr",
     "output_type": "stream",
     "text": [
      "Subway:  28%|████████████████████▋                                                     | 14/50 [01:15<04:39,  7.77s/it]"
     ]
    },
    {
     "name": "stdout",
     "output_type": "stream",
     "text": [
      "Listing #: 14\n",
      "CTA Length so far: 14\n"
     ]
    },
    {
     "name": "stderr",
     "output_type": "stream",
     "text": [
      "Subway:  28%|████████████████████▋                                                     | 14/50 [01:18<03:22,  5.64s/it]\n"
     ]
    },
    {
     "ename": "KeyboardInterrupt",
     "evalue": "",
     "output_type": "error",
     "traceback": [
      "\u001b[1;31m---------------------------------------------------------------------------\u001b[0m",
      "\u001b[1;31mKeyboardInterrupt\u001b[0m                         Traceback (most recent call last)",
      "\u001b[1;32m<ipython-input-8-25e38ad959b3>\u001b[0m in \u001b[0;36m<module>\u001b[1;34m\u001b[0m\n\u001b[0;32m     11\u001b[0m \u001b[1;32mfor\u001b[0m \u001b[0mlisting\u001b[0m \u001b[1;32min\u001b[0m \u001b[0mtqdm\u001b[0m\u001b[1;33m(\u001b[0m\u001b[0mrange\u001b[0m\u001b[1;33m(\u001b[0m\u001b[0mlen\u001b[0m\u001b[1;33m(\u001b[0m\u001b[0mdata_temp\u001b[0m\u001b[1;33m)\u001b[0m\u001b[1;33m)\u001b[0m\u001b[1;33m,\u001b[0m \u001b[0mdesc\u001b[0m \u001b[1;33m=\u001b[0m \u001b[1;34m'Subway'\u001b[0m\u001b[1;33m)\u001b[0m\u001b[1;33m:\u001b[0m\u001b[1;33m\u001b[0m\u001b[1;33m\u001b[0m\u001b[0m\n\u001b[0;32m     12\u001b[0m     \u001b[1;32mtry\u001b[0m\u001b[1;33m:\u001b[0m\u001b[1;33m\u001b[0m\u001b[1;33m\u001b[0m\u001b[0m\n\u001b[1;32m---> 13\u001b[1;33m         \u001b[0mpois_temp\u001b[0m \u001b[1;33m=\u001b[0m \u001b[0mox\u001b[0m\u001b[1;33m.\u001b[0m\u001b[0mpois_from_point\u001b[0m\u001b[1;33m(\u001b[0m\u001b[0mpoint\u001b[0m\u001b[1;33m=\u001b[0m\u001b[1;33m(\u001b[0m\u001b[0mdata_temp\u001b[0m\u001b[1;33m.\u001b[0m\u001b[0mlatitude\u001b[0m\u001b[1;33m.\u001b[0m\u001b[0miloc\u001b[0m\u001b[1;33m[\u001b[0m\u001b[0mlisting\u001b[0m\u001b[1;33m]\u001b[0m\u001b[1;33m,\u001b[0m\u001b[0mdata_temp\u001b[0m\u001b[1;33m.\u001b[0m\u001b[0mlongitude\u001b[0m\u001b[1;33m.\u001b[0m\u001b[0miloc\u001b[0m\u001b[1;33m[\u001b[0m\u001b[0mlisting\u001b[0m\u001b[1;33m]\u001b[0m\u001b[1;33m)\u001b[0m\u001b[1;33m,\u001b[0m \u001b[0mdist\u001b[0m\u001b[1;33m=\u001b[0m\u001b[1;36m1000\u001b[0m\u001b[1;33m,\u001b[0m \u001b[0mtags\u001b[0m\u001b[1;33m=\u001b[0m\u001b[0mtags\u001b[0m\u001b[1;33m)\u001b[0m\u001b[1;33m\u001b[0m\u001b[1;33m\u001b[0m\u001b[0m\n\u001b[0m\u001b[0;32m     14\u001b[0m \u001b[1;33m\u001b[0m\u001b[0m\n\u001b[0;32m     15\u001b[0m         \u001b[1;32mif\u001b[0m \u001b[1;34m'subway'\u001b[0m \u001b[1;32min\u001b[0m \u001b[0mpois_temp\u001b[0m \u001b[1;32mand\u001b[0m \u001b[0mlen\u001b[0m\u001b[1;33m(\u001b[0m\u001b[0mpois_temp\u001b[0m\u001b[1;33m[\u001b[0m\u001b[0mpois_temp\u001b[0m\u001b[1;33m[\u001b[0m\u001b[1;34m'subway'\u001b[0m\u001b[1;33m]\u001b[0m \u001b[1;33m==\u001b[0m \u001b[1;34m'yes'\u001b[0m\u001b[1;33m]\u001b[0m\u001b[1;33m.\u001b[0m\u001b[0mdropna\u001b[0m\u001b[1;33m(\u001b[0m\u001b[0maxis\u001b[0m\u001b[1;33m=\u001b[0m\u001b[1;36m1\u001b[0m\u001b[1;33m,\u001b[0m \u001b[0mhow\u001b[0m\u001b[1;33m=\u001b[0m\u001b[1;34m'any'\u001b[0m\u001b[1;33m)\u001b[0m\u001b[1;33m)\u001b[0m \u001b[1;33m>\u001b[0m \u001b[1;36m0\u001b[0m\u001b[1;33m:\u001b[0m \u001b[1;31m# if there is a column 'subway' in the temporary dataset with POIs for a listing x it means that there are stations within 1000m\u001b[0m\u001b[1;33m\u001b[0m\u001b[1;33m\u001b[0m\u001b[0m\n",
      "\u001b[1;32m~\\Anaconda3\\envs\\ox\\lib\\site-packages\\osmnx\\pois.py\u001b[0m in \u001b[0;36mpois_from_point\u001b[1;34m(point, tags, dist)\u001b[0m\n\u001b[0;32m    411\u001b[0m     \u001b[0mnorth\u001b[0m\u001b[1;33m,\u001b[0m \u001b[0msouth\u001b[0m\u001b[1;33m,\u001b[0m \u001b[0meast\u001b[0m\u001b[1;33m,\u001b[0m \u001b[0mwest\u001b[0m \u001b[1;33m=\u001b[0m \u001b[0mutils_geo\u001b[0m\u001b[1;33m.\u001b[0m\u001b[0mbbox_from_point\u001b[0m\u001b[1;33m(\u001b[0m\u001b[0mpoint\u001b[0m\u001b[1;33m=\u001b[0m\u001b[0mpoint\u001b[0m\u001b[1;33m,\u001b[0m \u001b[0mdist\u001b[0m\u001b[1;33m=\u001b[0m\u001b[0mdist\u001b[0m\u001b[1;33m)\u001b[0m\u001b[1;33m\u001b[0m\u001b[1;33m\u001b[0m\u001b[0m\n\u001b[0;32m    412\u001b[0m     \u001b[0mpolygon\u001b[0m \u001b[1;33m=\u001b[0m \u001b[0mutils_geo\u001b[0m\u001b[1;33m.\u001b[0m\u001b[0mbbox_to_poly\u001b[0m\u001b[1;33m(\u001b[0m\u001b[0mnorth\u001b[0m\u001b[1;33m,\u001b[0m \u001b[0msouth\u001b[0m\u001b[1;33m,\u001b[0m \u001b[0meast\u001b[0m\u001b[1;33m,\u001b[0m \u001b[0mwest\u001b[0m\u001b[1;33m)\u001b[0m\u001b[1;33m\u001b[0m\u001b[1;33m\u001b[0m\u001b[0m\n\u001b[1;32m--> 413\u001b[1;33m     \u001b[1;32mreturn\u001b[0m \u001b[0mpois_from_polygon\u001b[0m\u001b[1;33m(\u001b[0m\u001b[0mpolygon\u001b[0m\u001b[1;33m,\u001b[0m \u001b[0mtags\u001b[0m\u001b[1;33m)\u001b[0m\u001b[1;33m\u001b[0m\u001b[1;33m\u001b[0m\u001b[0m\n\u001b[0m\u001b[0;32m    414\u001b[0m \u001b[1;33m\u001b[0m\u001b[0m\n\u001b[0;32m    415\u001b[0m \u001b[1;33m\u001b[0m\u001b[0m\n",
      "\u001b[1;32m~\\Anaconda3\\envs\\ox\\lib\\site-packages\\osmnx\\pois.py\u001b[0m in \u001b[0;36mpois_from_polygon\u001b[1;34m(polygon, tags)\u001b[0m\n\u001b[0;32m    515\u001b[0m     \u001b[0mother\u001b[0m \u001b[0mcustom\u001b[0m \u001b[0msettings\u001b[0m \u001b[0mvia\u001b[0m \u001b[0mox\u001b[0m\u001b[1;33m.\u001b[0m\u001b[0mconfig\u001b[0m\u001b[1;33m(\u001b[0m\u001b[1;33m)\u001b[0m\u001b[1;33m.\u001b[0m\u001b[1;33m\u001b[0m\u001b[1;33m\u001b[0m\u001b[0m\n\u001b[0;32m    516\u001b[0m     \"\"\"\n\u001b[1;32m--> 517\u001b[1;33m     \u001b[1;32mreturn\u001b[0m \u001b[0m_create_poi_gdf\u001b[0m\u001b[1;33m(\u001b[0m\u001b[0mpolygon\u001b[0m\u001b[1;33m,\u001b[0m \u001b[0mtags\u001b[0m\u001b[1;33m)\u001b[0m\u001b[1;33m\u001b[0m\u001b[1;33m\u001b[0m\u001b[0m\n\u001b[0m",
      "\u001b[1;32m~\\Anaconda3\\envs\\ox\\lib\\site-packages\\osmnx\\pois.py\u001b[0m in \u001b[0;36m_create_poi_gdf\u001b[1;34m(polygon, tags)\u001b[0m\n\u001b[0;32m    318\u001b[0m         \u001b[0mPOIs\u001b[0m \u001b[1;32mand\u001b[0m \u001b[0mtheir\u001b[0m \u001b[0massociated\u001b[0m \u001b[0mtags\u001b[0m\u001b[1;33m\u001b[0m\u001b[1;33m\u001b[0m\u001b[0m\n\u001b[0;32m    319\u001b[0m     \"\"\"\n\u001b[1;32m--> 320\u001b[1;33m     \u001b[0mresponses\u001b[0m \u001b[1;33m=\u001b[0m \u001b[0m_osm_poi_download\u001b[0m\u001b[1;33m(\u001b[0m\u001b[0mpolygon\u001b[0m\u001b[1;33m,\u001b[0m \u001b[0mtags\u001b[0m\u001b[1;33m)\u001b[0m\u001b[1;33m\u001b[0m\u001b[1;33m\u001b[0m\u001b[0m\n\u001b[0m\u001b[0;32m    321\u001b[0m \u001b[1;33m\u001b[0m\u001b[0m\n\u001b[0;32m    322\u001b[0m     \u001b[1;31m# Parse coordinates from all the nodes in the response\u001b[0m\u001b[1;33m\u001b[0m\u001b[1;33m\u001b[0m\u001b[1;33m\u001b[0m\u001b[0m\n",
      "\u001b[1;32m~\\Anaconda3\\envs\\ox\\lib\\site-packages\\osmnx\\pois.py\u001b[0m in \u001b[0;36m_osm_poi_download\u001b[1;34m(polygon, tags)\u001b[0m\n\u001b[0;32m    112\u001b[0m     \u001b[1;31m# get the POIs\u001b[0m\u001b[1;33m\u001b[0m\u001b[1;33m\u001b[0m\u001b[1;33m\u001b[0m\u001b[0m\n\u001b[0;32m    113\u001b[0m     \u001b[0mquery\u001b[0m \u001b[1;33m=\u001b[0m \u001b[0m_create_poi_query\u001b[0m\u001b[1;33m(\u001b[0m\u001b[0mpolygon\u001b[0m\u001b[1;33m,\u001b[0m \u001b[0mtags\u001b[0m\u001b[1;33m)\u001b[0m\u001b[1;33m\u001b[0m\u001b[1;33m\u001b[0m\u001b[0m\n\u001b[1;32m--> 114\u001b[1;33m     \u001b[0mresponses\u001b[0m \u001b[1;33m=\u001b[0m \u001b[0mdownloader\u001b[0m\u001b[1;33m.\u001b[0m\u001b[0moverpass_request\u001b[0m\u001b[1;33m(\u001b[0m\u001b[0mdata\u001b[0m\u001b[1;33m=\u001b[0m\u001b[1;33m{\u001b[0m\u001b[1;34m\"data\"\u001b[0m\u001b[1;33m:\u001b[0m \u001b[0mquery\u001b[0m\u001b[1;33m}\u001b[0m\u001b[1;33m)\u001b[0m\u001b[1;33m\u001b[0m\u001b[1;33m\u001b[0m\u001b[0m\n\u001b[0m\u001b[0;32m    115\u001b[0m     \u001b[1;32mreturn\u001b[0m \u001b[0mresponses\u001b[0m\u001b[1;33m\u001b[0m\u001b[1;33m\u001b[0m\u001b[0m\n\u001b[0;32m    116\u001b[0m \u001b[1;33m\u001b[0m\u001b[0m\n",
      "\u001b[1;32m~\\Anaconda3\\envs\\ox\\lib\\site-packages\\osmnx\\downloader.py\u001b[0m in \u001b[0;36moverpass_request\u001b[1;34m(data, pause, error_pause)\u001b[0m\n\u001b[0;32m    506\u001b[0m             \u001b[0mthis_pause\u001b[0m \u001b[1;33m=\u001b[0m \u001b[0m_get_pause\u001b[0m\u001b[1;33m(\u001b[0m\u001b[1;33m)\u001b[0m\u001b[1;33m\u001b[0m\u001b[1;33m\u001b[0m\u001b[0m\n\u001b[0;32m    507\u001b[0m         \u001b[0mutils\u001b[0m\u001b[1;33m.\u001b[0m\u001b[0mlog\u001b[0m\u001b[1;33m(\u001b[0m\u001b[1;34mf\"Pausing {this_pause} seconds before making HTTP POST request\"\u001b[0m\u001b[1;33m)\u001b[0m\u001b[1;33m\u001b[0m\u001b[1;33m\u001b[0m\u001b[0m\n\u001b[1;32m--> 508\u001b[1;33m         \u001b[0mtime\u001b[0m\u001b[1;33m.\u001b[0m\u001b[0msleep\u001b[0m\u001b[1;33m(\u001b[0m\u001b[0mthis_pause\u001b[0m\u001b[1;33m)\u001b[0m\u001b[1;33m\u001b[0m\u001b[1;33m\u001b[0m\u001b[0m\n\u001b[0m\u001b[0;32m    509\u001b[0m \u001b[1;33m\u001b[0m\u001b[0m\n\u001b[0;32m    510\u001b[0m         \u001b[1;31m# transmit the HTTP POST request\u001b[0m\u001b[1;33m\u001b[0m\u001b[1;33m\u001b[0m\u001b[1;33m\u001b[0m\u001b[0m\n",
      "\u001b[1;31mKeyboardInterrupt\u001b[0m: "
     ]
    }
   ],
   "source": [
    "'''\n",
    "Returns a new extended dataset with the number of subway (in case of Chicago CTA) \n",
    "stations within a radius of 1000 meters as well as the walking time to the nearest one in seconds.\n",
    "If there are not any stations in the radius of 1000m, the walking time to a station within a radius of 5000m is checked.  \n",
    "'''  \n",
    "tags =  {'railway': 'subway'}\n",
    "cta = []\n",
    "walk_time = [] #walking time to the closest CTA station in seconds \n",
    "data_temp = data\n",
    "errors_s = 0\n",
    "for listing in tqdm(range(len(data_temp)), desc = 'Subway'):\n",
    "    try:\n",
    "        pois_temp = ox.pois_from_point(point=(data_temp.latitude.iloc[listing],data_temp.longitude.iloc[listing]), dist=1000, tags=tags) \n",
    "        \n",
    "        if 'subway' in pois_temp and len(pois_temp[pois_temp['subway'] == 'yes'].dropna(axis=1, how='any')) > 0: # if there is a column 'subway' in the temporary dataset with POIs for a listing x it means that there are stations within 1000m\n",
    "            train = pois_temp[pois_temp['subway'] == 'yes'].dropna(axis=1, how='any') # slicing out the information about the subways stations (name and location)\n",
    "            coordinates = [[data_temp.iloc[listing].longitude,data_temp.iloc[listing].latitude]] # extracting the long and lat of a listing x \n",
    "            \n",
    "            '''\n",
    "            The following function uses regular expressions (import re) to format the long and lat \n",
    "            retrieved by the ox.pois_from_point method. It drops all the symbols that are not a number (^0-9), not a dot (^.), not a space (^ ), and not a negative sign (^-) \n",
    "            ''' \n",
    "            for _ in range(len(train)):\n",
    "                coord_temp = [train.geometry.iloc[_].x,train.geometry.iloc[_].y]\n",
    "                coordinates.append(coord_temp)\n",
    "            '''\n",
    "            Read more about the OpenRouteService in their docs: https://openrouteservice-py.readthedocs.io/en/latest/ \n",
    "            locations - a dicitonary with the pairs of long and lat (includes both the starting point and destination(s))\n",
    "            destinations - a list of indecies of point to which the distance is going to be measured (basicly just excludes the starting point)\n",
    "            profile - method of moving (some of the alternatives are “driving-car” and  “cycling-regular”)\n",
    "            metrics - 'duration': time in secodnds to destination\n",
    "            also - 'distance': distance in meters  \n",
    "\n",
    "            '''\n",
    "#             try:\n",
    "            matrix = client.distance_matrix(\n",
    "                locations = coordinates,\n",
    "                destinations = [_ for _ in range(1,len(coordinates))],\n",
    "                profile = 'foot-walking',\n",
    "                metrics = ['duration'],\n",
    "                validate = False,\n",
    "            )\n",
    "\n",
    "#             except Exception:\n",
    "#                 print('Resetting API Limit')\n",
    "#                 time.sleep(500)\n",
    "#                 continue\n",
    "\n",
    "            cta.append((len(train['name'].unique()))) # adding the number of unique CTA stations (.unique because several entrences to the same station are recorded)\n",
    "            walk_time.append(round((matrix['durations'][0][matrix['durations'][0].index(min(matrix['durations'][0]))]/60),2))\n",
    "            #print(walk_time)\n",
    "\n",
    "        else: \n",
    "            pois_temp = ox.pois_from_point(point=(data_temp.latitude.iloc[listing],data_temp.longitude.iloc[listing]), dist=2500, tags=tags)  \n",
    "            train = pois_temp[pois_temp['subway'] == 'yes'].dropna(axis=1, how='any')\n",
    "            if len(train) > 0:\n",
    "                pass\n",
    "            else:\n",
    "                pois_temp = ox.pois_from_point(point=(data_temp.latitude.iloc[listing],data_temp.longitude.iloc[listing]), dist=5000, tags=tags)  \n",
    "                train = pois_temp[pois_temp['subway'] == 'yes'].dropna(axis=1, how='any')\n",
    "                if len(train) > 0:\n",
    "                    pass\n",
    "                else:\n",
    "                    cta.append(0)\n",
    "                    walk_time.append(np.nan)\n",
    "            coordinates = [[data_temp.iloc[listing].longitude,data_temp.iloc[listing].latitude]]\n",
    "            for _ in range(len(train)):\n",
    "                coord_temp = [train.geometry.iloc[_].x,train.geometry.iloc[_].y]\n",
    "                coordinates.append(coord_temp)     \n",
    "#             try:\n",
    "#                 print(len(coordinates))\n",
    "#                 print([_ for _ in range(1,len(coordinates))])\n",
    "            matrix = client.distance_matrix(\n",
    "                locations = coordinates,\n",
    "                destinations = [_ for _ in range(1,len(coordinates))],\n",
    "                profile = 'foot-walking',\n",
    "                metrics = ['duration'],\n",
    "                validate = False,\n",
    "            )\n",
    "#             except Exception:\n",
    "#                 print('\\n \\n Resetting API Limit \\n')\n",
    "#                 time.sleep(500)\n",
    "#                 continue\n",
    "            cta.append(0)\n",
    "            walk_time.append(round((matrix['durations'][0][matrix['durations'][0].index(min(matrix['durations'][0]))]/60),2))\n",
    "            #print(walk_time)\n",
    "            #print(walk_time)\n",
    "    except Exception:\n",
    "        errors_s += 1 \n",
    "        print(\"\\n \\n Exception handled: {} \\n\".format(errors_s))\n",
    "        cta.append(np.nan)\n",
    "        walk_time.append(np.nan)\n",
    "    print('Listing #: {}'.format(listing + 1))\n",
    "    print('CTA Length so far: {}'.format(len(cta)))\n",
    "\n",
    "print(\"Errors encountared: {}\".format(errors_s))\n",
    "print(\"Number of listings: {}\".format(len(data_temp)))\n",
    "print(\"Number of listings with CTA count: {}\".format(len(cta)))\n",
    "data_temp['cta'] = cta\n",
    "data_temp['time_to_cta_minutes'] = walk_time\n",
    "data_cta = data_temp\n",
    "return data_cta"
   ]
  },
  {
   "cell_type": "code",
   "execution_count": null,
   "metadata": {},
   "outputs": [],
   "source": [
    "import pandas as pd\n",
    "import numpy as np\n",
    "### packages for spatial analysis \n",
    "import osmnx as ox   # for finding objects within a given radius \n",
    "import openrouteservice as ors   # for finding the walking distance in seconds and meters to a given point \n",
    "### for promting to choose a file \n",
    "from tqdm import tqdm\n",
    "### others \n",
    "import re\n",
    "import requests\n",
    "import time\n",
    "from openrouteservice import client, places\n",
    "#api_key='5b3ce3597851110001cf6248fb1ecfcd8ab8422b93b5dd978d83e93e'\n",
    "# '5b3ce3597851110001cf6248f4a7fee5db334593bc67406f86071778'\n",
    "### for ors we need an API Key, it can be found on the https://openrouteservice.org/ once you create an account \n",
    "client = ors.Client(key=input('Enter your OpenRouteService API Key: '))\n",
    "ox.config(log_console=False, use_cache=True)\n",
    "\n",
    "def choose_csv():\n",
    "    '''\n",
    "    Returns the dataset you chose. \n",
    "\n",
    "    '''\n",
    "    file_name = input('Enter the name of your CSV file (Leave empty to call file explorer): ') \n",
    "    if not file_name:\n",
    "        from tkinter import Tk\n",
    "        from tkinter.filedialog import askopenfilename\n",
    "        Tk().withdraw() # we don't want a full GUI, so keep the root window from appearing\n",
    "        file_name = askopenfilename()\n",
    "    print('CSV File Name: {}'.format(file_name))\n",
    "    time.sleep(1)\n",
    "    data = pd.read_csv(file_name)\n",
    "    if 'id' in data:\n",
    "        data.set_index('id')\n",
    "    return data\n",
    "\n",
    "def pois_amenities(data):\n",
    "    '''\n",
    "    Returns a new extended dataset with the number of restaurants, \n",
    "    bars, cafes, and university campuses within a radius of 1000 meters (0.6 miles). \n",
    "\n",
    "    Parameters:\n",
    "        data: The dataset you chose (is passed from `choose_csv()` function)\n",
    "\n",
    "    Returns:\n",
    "        data_new: The extended dataframe `data`\n",
    "    '''\n",
    "    tags = {'amenity':['restaurant', 'bar', 'cafe','university']} # here we specify the POIs (Points of Interest) we want to find \n",
    "    restaurants, bars, cafes, unis = ([] for i in range(4)) # creating empty dictionaries\n",
    "    errors_a = 0 \n",
    "    data_temp = data \n",
    "\n",
    "    for x in tqdm(range(len(data_temp)),desc='Amenities'):\n",
    "        try:\n",
    "            pois_temp = ox.pois_from_point(point=(data_temp.latitude.iloc[x],data_temp.longitude.iloc[x]), dist=1000, tags=tags)  #get POIs (tags) for a point with latitude and longitude in a range dist (in meters) \n",
    "            # pois_temp is a DataFrame with the information about each POI \n",
    "            if 'amenity' in pois_temp: \n",
    "                '''\n",
    "                Adding the number of POIs to corresponding arrays\n",
    "                '''\n",
    "                if len(pois_temp[pois_temp['amenity']=='restaurant'].dropna(axis=1, how='any')) > 0:\n",
    "                    restaurants.append(len(pois_temp[pois_temp['amenity']=='restaurant'].dropna(axis=1, how='any')))  \n",
    "                else: \n",
    "                    restaurants.append(0)\n",
    "                if len(pois_temp[pois_temp['amenity']=='bar'].dropna(axis=1, how='any')) > 0:\n",
    "                    bars.append(len(pois_temp[pois_temp['amenity']=='bar'].dropna(axis=1, how='any'))) \n",
    "                else: \n",
    "                    bars.append(0)\n",
    "                if len(pois_temp[pois_temp['amenity']=='cafe'].dropna(axis=1, how='any')) > 0:\n",
    "                    cafes.append(len(pois_temp[pois_temp['amenity']=='cafe'].dropna(axis=1, how='any'))) \n",
    "                else: \n",
    "                    cafes.append(0)   \n",
    "                if len(pois_temp[pois_temp['amenity']=='university'].dropna(axis=1, how='any')) > 0:\n",
    "                    unis.append(len(pois_temp[pois_temp['amenity']=='university'].dropna(axis=1, how='any'))) \n",
    "                else:\n",
    "                    unis.append(0)      \n",
    "            else:\n",
    "                restaurants.append(0)  # if len(pois_temp[pois_temp['amenity']=='restaurant'].dropna(axis=1, how='any')) > 0 else restaurants.append(0) \n",
    "                bars.append(0)\n",
    "                cafes.append(0)\n",
    "                unis.append(0)\n",
    "        except Exception:\n",
    "            errors_a += 1 \n",
    "            print(\"\\n \\n Exception handled \\n\")\n",
    "            restaurants.append(np.nan)  # if len(pois_temp[pois_temp['amenity']=='restaurant'].dropna(axis=1, how='any')) > 0 else restaurants.append(0) \n",
    "            bars.append(np.nan)\n",
    "            cafes.append(np.nan)\n",
    "            unis.append(np.nan)\n",
    "            continue\n",
    "    '''\n",
    "    Appending the gathered counts to a new dataframe (extending the initial one) \n",
    "    '''\n",
    "    print(\"Errors encountared: {}\".format(errors_a))\n",
    "    data_temp['restaurants'] = restaurants \n",
    "    data_temp['bars'] = bars \n",
    "    data_temp['cafes'] = cafes\n",
    "    data_temp['universities'] = unis\n",
    "    data_new = data_temp\n",
    "    return data_new\n",
    "\n",
    "\n",
    "def pois_subway(data):\n",
    "    '''\n",
    "    Returns a new extended dataset with the number of subway (in case of Chicago CTA) \n",
    "    stations within a radius of 1000 meters as well as the walking time to the nearest one in seconds.\n",
    "    If there are not any stations in the radius of 1000m, the walking time to a station within a radius of 5000m is checked.  \n",
    "    '''  \n",
    "    tags =  {'railway': 'subway'}\n",
    "    cta = []\n",
    "    walk_time = [] #walking time to the closest CTA station in seconds \n",
    "    data_temp = data\n",
    "    errors_s = 0\n",
    "    for listing in tqdm(range(len(data_temp)), desc = 'Subway'):\n",
    "        try:\n",
    "            pois_temp = ox.pois_from_point(point=(data_temp.latitude.iloc[listing],data_temp.longitude.iloc[listing]), dist=1000, tags=tags) \n",
    "            \n",
    "            if 'subway' in pois_temp and len(pois_temp[pois_temp['subway'] == 'yes'].dropna(axis=1, how='any')) > 0: # if there is a column 'subway' in the temporary dataset with POIs for a listing x it means that there are stations within 1000m\n",
    "                train = pois_temp[pois_temp['subway'] == 'yes'].dropna(axis=1, how='any') # slicing out the information about the subways stations (name and location)\n",
    "                coordinates = [[data_temp.iloc[listing].longitude,data_temp.iloc[listing].latitude]] # extracting the long and lat of a listing x \n",
    "                \n",
    "                '''\n",
    "                The following function uses regular expressions (import re) to format the long and lat \n",
    "                retrieved by the ox.pois_from_point method. It drops all the symbols that are not a number (^0-9), not a dot (^.), not a space (^ ), and not a negative sign (^-) \n",
    "                ''' \n",
    "                for _ in range(len(train)):\n",
    "                    coord_temp = [train.geometry.iloc[_].x,train.geometry.iloc[_].y]\n",
    "                    coordinates.append(coord_temp)\n",
    "                '''\n",
    "                Read more about the OpenRouteService in their docs: https://openrouteservice-py.readthedocs.io/en/latest/ \n",
    "                locations - a dicitonary with the pairs of long and lat (includes both the starting point and destination(s))\n",
    "                destinations - a list of indecies of point to which the distance is going to be measured (basicly just excludes the starting point)\n",
    "                profile - method of moving (some of the alternatives are “driving-car” and  “cycling-regular”)\n",
    "                metrics - 'duration': time in secodnds to destination\n",
    "                also - 'distance': distance in meters  \n",
    "\n",
    "                '''\n",
    "    #             try:\n",
    "                matrix = client.distance_matrix(\n",
    "                    locations = coordinates,\n",
    "                    destinations = [_ for _ in range(1,len(coordinates))],\n",
    "                    profile = 'foot-walking',\n",
    "                    metrics = ['duration'],\n",
    "                    validate = False,\n",
    "                )\n",
    "\n",
    "    #             except Exception:\n",
    "    #                 print('Resetting API Limit')\n",
    "    #                 time.sleep(500)\n",
    "    #                 continue\n",
    "\n",
    "                cta.append((len(train['name'].unique()))) # adding the number of unique CTA stations (.unique because several entrences to the same station are recorded)\n",
    "                walk_time.append(round((matrix['durations'][0][matrix['durations'][0].index(min(matrix['durations'][0]))]/60),2))\n",
    "                #print(walk_time)\n",
    "\n",
    "            else: \n",
    "                pois_temp = ox.pois_from_point(point=(data_temp.latitude.iloc[listing],data_temp.longitude.iloc[listing]), dist=2500, tags=tags)  \n",
    "                train = pois_temp[pois_temp['subway'] == 'yes'].dropna(axis=1, how='any')\n",
    "                if len(train) > 0:\n",
    "                    pass\n",
    "                else:\n",
    "                    pois_temp = ox.pois_from_point(point=(data_temp.latitude.iloc[listing],data_temp.longitude.iloc[listing]), dist=5000, tags=tags)  \n",
    "                    train = pois_temp[pois_temp['subway'] == 'yes'].dropna(axis=1, how='any')\n",
    "                    if len(train) > 0:\n",
    "                        pass\n",
    "                    else:\n",
    "                        cta.append(0)\n",
    "                        walk_time.append(np.nan)\n",
    "                coordinates = [[data_temp.iloc[listing].longitude,data_temp.iloc[listing].latitude]]\n",
    "                for _ in range(len(train)):\n",
    "                    coord_temp = [train.geometry.iloc[_].x,train.geometry.iloc[_].y]\n",
    "                    coordinates.append(coord_temp)     \n",
    "    #             try:\n",
    "    #                 print(len(coordinates))\n",
    "    #                 print([_ for _ in range(1,len(coordinates))])\n",
    "                matrix = client.distance_matrix(\n",
    "                    locations = coordinates,\n",
    "                    destinations = [_ for _ in range(1,len(coordinates))],\n",
    "                    profile = 'foot-walking',\n",
    "                    metrics = ['duration'],\n",
    "                    validate = False,\n",
    "                )\n",
    "    #             except Exception:\n",
    "    #                 print('\\n \\n Resetting API Limit \\n')\n",
    "    #                 time.sleep(500)\n",
    "    #                 continue\n",
    "                cta.append(0)\n",
    "                walk_time.append(round((matrix['durations'][0][matrix['durations'][0].index(min(matrix['durations'][0]))]/60),2))\n",
    "                #print(walk_time)\n",
    "                #print(walk_time)\n",
    "        except Exception:\n",
    "            errors_s += 1 \n",
    "            print(\"\\n \\n Exception handled: {} \\n\".format(errors_s))\n",
    "            cta.append(np.nan)\n",
    "            walk_time.append(np.nan)\n",
    "        print('Listing #: {}'.format(listing + 1))\n",
    "        print('CTA Length so far: {}'.format(len(cta)))\n",
    "\n",
    "    print(\"Errors encountared: {}\".format(errors_s))\n",
    "    print(\"Number of listings: {}\".format(len(data_temp)))\n",
    "    print(\"Number of listings with CTA count: {}\".format(len(cta)))\n",
    "    data_temp['cta'] = cta\n",
    "    data_temp['time_to_cta_minutes'] = walk_time\n",
    "    data_cta = data_temp\n",
    "    return data_cta\n",
    "\n",
    "def save_csv(data):\n",
    "    data_with_counts = data\n",
    "    #print(data_with_counts.head(10))\n",
    "    data_with_counts.to_csv('data_with_counts_final.csv')\n",
    "\n",
    "if __name__ == \"__main__\":\n",
    "    start = time.time()\n",
    "    dataset = choose_csv()\n",
    "    #data_amenities = pois_amenities(dataset)\n",
    "    new_data = pois_subway(dataset)\n",
    "    end = time.time()\n",
    "    save_csv(new_data)\n",
    "    print('Run time: {:.2f} minutes'.format((end - start)/60))\n",
    "\n",
    "\n",
    "\n"
   ]
  },
  {
   "cell_type": "code",
   "execution_count": null,
   "metadata": {},
   "outputs": [],
   "source": []
  }
 ],
 "metadata": {
  "kernelspec": {
   "display_name": "ox",
   "language": "python",
   "name": "ox"
  },
  "language_info": {
   "codemirror_mode": {
    "name": "ipython",
    "version": 3
   },
   "file_extension": ".py",
   "mimetype": "text/x-python",
   "name": "python",
   "nbconvert_exporter": "python",
   "pygments_lexer": "ipython3",
   "version": "3.8.3"
  }
 },
 "nbformat": 4,
 "nbformat_minor": 4
}
