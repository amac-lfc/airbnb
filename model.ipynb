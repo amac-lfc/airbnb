{
 "cells": [
  {
   "cell_type": "code",
   "execution_count": 1,
   "metadata": {},
   "outputs": [],
   "source": [
    "# general\n",
    "import pandas as pd\n",
    "import numpy as np\n",
    "import seaborn as sns\n",
    "import matplotlib.pyplot as plt\n",
    "\n",
    "import time\n",
    "\n",
    "# modelling\n",
    "from sklearn.preprocessing import StandardScaler, MinMaxScaler, PolynomialFeatures\n",
    "from sklearn.model_selection import train_test_split, cross_val_score \n",
    "from sklearn.linear_model import LinearRegression,lars_path,LassoCV,RidgeCV, ElasticNet\n",
    "from sklearn import linear_model\n",
    "from sklearn import metrics\n",
    "import xgboost as xgb\n",
    "from xgboost import plot_importance\n",
    "from sklearn.metrics import explained_variance_score, mean_squared_error, r2_score, max_error, mean_absolute_error\n",
    "from sklearn.pipeline import Pipeline\n",
    "from sklearn.model_selection import GridSearchCV\n",
    "from sklearn.ensemble import ExtraTreesRegressor"
   ]
  },
  {
   "cell_type": "code",
   "execution_count": 2,
   "metadata": {},
   "outputs": [],
   "source": [
    "def choose_csv():\n",
    "    '''\n",
    "    Returns the dataset you chose. \n",
    "\n",
    "    '''\n",
    "    data_counts = pd.read_csv('data/listings_cleaned_with_counts.csv', index_col=['id'])\n",
    "    \n",
    "    \n",
    "    #data_all = data_all.loc[data_counts.index]\n",
    "    \n",
    "    data_raw = pd.read_csv('data/listings_cleaned.csv',index_col=['id'])\n",
    "    \n",
    "    return data_counts, data_raw"
   ]
  },
  {
   "cell_type": "code",
   "execution_count": 3,
   "metadata": {},
   "outputs": [],
   "source": [
    "def cat_cols(data):\n",
    "    data_all = pd.read_csv('data/listings.csv',index_col=['id'])\n",
    "    \n",
    "    cols = ['neighbourhood_cleansed','property_type','room_type','bed_type','cancellation_policy']\n",
    "    data_all_temp = data_all.loc[data.index]\n",
    "    cat_cols = data_all_temp[cols]\n",
    "    \n",
    "    threshold_percent = 10\n",
    "    series = pd.value_counts(cat_cols['property_type'])\n",
    "    mask = (series / series.sum() * 100).lt(threshold_percent)\n",
    "    cat_cols = cat_cols.assign(property_type = np.where(cat_cols['property_type'].isin(series[mask].index),'Other', cat_cols['property_type']))\n",
    "    \n",
    "    data_cat = pd.concat([data, cat_cols], axis=1)\n",
    "    data_cat = pd.get_dummies(data_cat)\n",
    "    data_cat.columns = data_cat.columns.str.replace(' ','_')\n",
    "    \n",
    "    data_cat = data_cat.drop(columns = ['latitude','longitude'])\n",
    "    return data_cat"
   ]
  },
  {
   "cell_type": "code",
   "execution_count": 4,
   "metadata": {},
   "outputs": [],
   "source": [
    "def drop():\n",
    "    data_counts, data_raw = choose_csv()\n",
    "    \n",
    "    if input('Do you want to drop columns? (y/n)') == 'y':\n",
    "        print(list(data_counts))\n",
    "        to_drop = []\n",
    "        to_drop.append(input('Enter Column Name: '))\n",
    "        while input('Do you want to drop more columns? (y/n)  ') == 'y':\n",
    "            to_drop.append(input('Enter Column Name: '))\n",
    "        data_counts = data_counts.drop(columns = to_drop)   \n",
    "    \n",
    "    #missing = input('How do you want to handle the missing data? (drop/0s) : ')\n",
    "    data_counts = data_counts.dropna()\n",
    "#     elif missing == '0s':\n",
    "# #    elif:\n",
    "#         data_counts = data_counts.fillna(0)\n",
    "#     else:\n",
    "#         from sklearn.experimental import enable_iterative_imputer\n",
    "#         from sklearn.impute import IterativeImputer\n",
    "#         imp = IterativeImputer(max_iter=10, random_state=0, tol=0.01)\n",
    "#         data_for_modeling_imp = imp.fit_transform(data_for_modeling)\n",
    "#         data_for_modeling = pd.DataFrame(data_for_modeling_imp, columns = data_for_modeling.columns)\n",
    "        \n",
    "    if input('Do you want to include categorical data? (y/n) : ') == 'y':\n",
    "        data_for_modeling = cat_cols(data_counts)\n",
    "        data_raw = cat_cols(data_raw)    \n",
    "        \n",
    "#         cols = ['neighbourhood_cleansed','property_type','room_type','bed_type','cancellation_policy']\n",
    "#         data_counts_all = data_all.loc[data_counts.index]\n",
    "#         cat_cols_counts = data_counts_all[cols]\n",
    "        \n",
    "        \n",
    "        \n",
    "        \n",
    "#         cat_cols = data_all[cols]\n",
    "        \n",
    "#         print(len(cat_cols) == len(data_for_modeling))\n",
    "        \n",
    "#         threshold_percent = 10\n",
    "#         series = pd.value_counts(cat_cols['property_type'])\n",
    "#         mask = (series / series.sum() * 100).lt(threshold_percent)\n",
    "#         cat_cols = cat_cols.assign(property_type = np.where(cat_cols['property_type'].isin(series[mask].index),'Other', cat_cols['property_type']))\n",
    "        \n",
    "#         data_for_modeling = pd.concat([data_counts, cat_cols], axis=1)\n",
    "#         data_for_modeling = pd.get_dummies(data_for_modeling)\n",
    "#         data_for_modeling.columns = data_for_modeling.columns.str.replace(' ','_')    \n",
    "    else: \n",
    "        data_for_modeling = data_counts\n",
    "        \n",
    "#     if input(\"Do you want to drop the columns permanently? (y/n) \") == 'y':\n",
    "#             data_raw.to_csv('data/listings_cleaned.csv')\n",
    "    \n",
    "    return data_for_modeling, data_counts, data_raw"
   ]
  },
  {
   "cell_type": "code",
   "execution_count": 5,
   "metadata": {},
   "outputs": [],
   "source": [
    "def linreg(X_train, X_test, y_train, y_test):\n",
    "    lin_reg = LinearRegression()  \n",
    "    lin_reg.fit(X_train, y_train)\n",
    "    y_train_pred = lin_reg.predict(X_train)\n",
    "    y_test_pred = lin_reg.predict(X_test)\n",
    "    train_score = round(r2_score(y_train, y_train_pred),4)\n",
    "    test_score = round(r2_score(y_test, y_test_pred),4)\n",
    "    print(\"Linear Regression\")\n",
    "    print(\"\\nTraining r2:\", train_score) \n",
    "    print(\"Validation r2:\", test_score)"
   ]
  },
  {
   "cell_type": "code",
   "execution_count": 6,
   "metadata": {},
   "outputs": [],
   "source": [
    "def lasso(X_train, X_test, y_train, y_test):\n",
    "    alphas = 10**np.linspace(-2,2,200)\n",
    "    lasso = LassoCV(alphas=alphas,cv=10,tol=0.1).fit(X_train, y_train)\n",
    "    y_train_pred = lasso.predict(X_train)\n",
    "    y_test_pred = lasso.predict(X_test)\n",
    "    train_score = round(r2_score(y_train, y_train_pred),4)\n",
    "    test_score = round(r2_score(y_test, y_test_pred),4)\n",
    "    print(\"Lasso Regression\")\n",
    "    print(\"\\nTraining r2:\", train_score)\n",
    "    print(\"Validation r2:\", test_score)"
   ]
  },
  {
   "cell_type": "code",
   "execution_count": 7,
   "metadata": {},
   "outputs": [],
   "source": [
    "def ridge(X_train, X_test, y_train, y_test):\n",
    "    alphas = np.linspace(0,2,100)\n",
    "    ridge = RidgeCV(normalize=False,alphas=alphas,cv=10).fit(X_train, y_train) \n",
    "    y_train_pred = ridge.predict(X_train)\n",
    "    y_test_pred = ridge.predict(X_test)\n",
    "    train_score = round(r2_score(y_train, y_train_pred),4)\n",
    "    test_score = round(r2_score(y_test, y_test_pred),4)\n",
    "    print(\"Ridge Regression\")\n",
    "    print(\"\\nTraining r2:\", train_score)\n",
    "    print(\"Validation r2:\", test_score)"
   ]
  },
  {
   "cell_type": "code",
   "execution_count": 8,
   "metadata": {},
   "outputs": [],
   "source": [
    "def poly_lasso(X_train, X_test, y_train, y_test):\n",
    "    poly = PolynomialFeatures(degree=2).fit(X_train)\n",
    "    X_train_poly = poly.transform(X_train) \n",
    "    X_test_poly = poly.transform(X_test)\n",
    "    alphas = 10**np.linspace(-2,2,100)\n",
    "    lasso = LassoCV(alphas=alphas,cv=5,tol=0.5).fit(X_train_poly, y_train.ravel()) \n",
    "    y_train_pred = lasso.predict(X_train_poly)\n",
    "    y_test_pred = lasso.predict(X_test_poly)\n",
    "    train_score = round(r2_score(y_train, y_train_pred),4)\n",
    "    test_score = round(r2_score(y_test, y_test_pred),4)\n",
    "    print(\"Lasso Regression with Polynomial Features\")\n",
    "    print(\"\\nTraining r2:\", train_score)\n",
    "    print(\"Validation r2:\", test_score)"
   ]
  },
  {
   "cell_type": "code",
   "execution_count": 9,
   "metadata": {},
   "outputs": [],
   "source": [
    "def poly_ridge(X_train, X_test, y_train, y_test):\n",
    "    poly = PolynomialFeatures(degree=2).fit(X_train)\n",
    "    X_train_poly = poly.transform(X_train) \n",
    "    X_test_poly = poly.transform(X_test)\n",
    "    alphas = 10**np.linspace(-2,2,100)\n",
    "    ridge = RidgeCV(normalize=True,alphas=alphas,cv=5,).fit(X_train_poly, y_train.ravel()) \n",
    "    y_train_pred = ridge.predict(X_train_poly)\n",
    "    y_test_pred = ridge.predict(X_test_poly)\n",
    "    train_score = round(r2_score(y_train, y_train_pred),4)\n",
    "    test_score = round(r2_score(y_test, y_test_pred),4)\n",
    "    print(\"Ridge Regression with Polynomial Features\")\n",
    "    print(\"\\nTraining r2:\", train_score)\n",
    "    print(\"Validation r2:\", test_score)"
   ]
  },
  {
   "cell_type": "code",
   "execution_count": 10,
   "metadata": {},
   "outputs": [],
   "source": [
    "def boost(X_train, X_test, y_train, y_test):\n",
    "    xg_reg = xgb.XGBRegressor(objective ='reg:squarederror', learning_rate = 0.15, max_depth = 4, booster='gbtree')\n",
    "    xg_reg.fit(X_train,y_train)\n",
    "    y_train_pred = xg_reg.predict(X_train)\n",
    "    y_test_pred = xg_reg.predict(X_test)\n",
    "    train_score = round(r2_score(y_train, y_train_pred),4)\n",
    "    test_score = round(r2_score(y_test, y_test_pred),4)\n",
    "    print(\"XGBoost\")\n",
    "    print(\"\\nTraining r2:\", train_score)\n",
    "    print(\"Validation r2:\", test_score)\n",
    "    fig, ax = plt.subplots(figsize=(14, 8))\n",
    "    plot_importance(xg_reg, ax=ax)\n",
    "    #ax.figure.savefig('reports/images/1.png')\n",
    "    #pyplot.show()"
   ]
  },
  {
   "cell_type": "code",
   "execution_count": 11,
   "metadata": {},
   "outputs": [
    {
     "name": "stdin",
     "output_type": "stream",
     "text": [
      "Do you want to drop columns? (y/n) y\n"
     ]
    },
    {
     "name": "stdout",
     "output_type": "stream",
     "text": [
      "['latitude', 'longitude', 'accommodates', 'bathrooms', 'price', 'minimum_nights', 'maximum_nights', 'availability_30', 'number_of_reviews', 'number_of_reviews_ltm', 'restaurants', 'bars', 'cafes', 'universities', 'cta', 'time_to_cta_minutes']\n"
     ]
    },
    {
     "name": "stdin",
     "output_type": "stream",
     "text": [
      "Enter Column Name:  restaurants\n",
      "Do you want to drop more columns? (y/n)   y\n",
      "Enter Column Name:  bars\n",
      "Do you want to drop more columns? (y/n)   y\n",
      "Enter Column Name:  cafes\n",
      "Do you want to drop more columns? (y/n)   y\n",
      "Enter Column Name:  universities\n",
      "Do you want to drop more columns? (y/n)   n\n",
      "Do you want to include categorical data? (y/n) :  n\n"
     ]
    }
   ],
   "source": [
    "data_for_modeling, data, data_raw = drop()"
   ]
  },
  {
   "cell_type": "markdown",
   "metadata": {},
   "source": [
    "## Data without new variables \n"
   ]
  },
  {
   "cell_type": "code",
   "execution_count": 12,
   "metadata": {},
   "outputs": [],
   "source": [
    "X = data_raw.drop('price', axis=1)\n",
    "y = data_raw.price\n",
    "scaler = StandardScaler()\n",
    "#X_scaled = scaler.fit_transform(X)\n",
    "#ey_scaled = scaler.fit_transform(y.values.reshape(-1,1))\n",
    "\n",
    "X_train, X_test, y_train, y_test = train_test_split(X, y, test_size=0.25)"
   ]
  },
  {
   "cell_type": "code",
   "execution_count": 13,
   "metadata": {},
   "outputs": [
    {
     "name": "stdout",
     "output_type": "stream",
     "text": [
      "Linear Regression\n",
      "\n",
      "Training r2: 0.3584\n",
      "Validation r2: 0.3486\n"
     ]
    }
   ],
   "source": [
    "linreg(X_train, X_test, y_train, y_test)"
   ]
  },
  {
   "cell_type": "code",
   "execution_count": 14,
   "metadata": {},
   "outputs": [
    {
     "name": "stdout",
     "output_type": "stream",
     "text": [
      "Lasso Regression\n",
      "\n",
      "Training r2: 0.3584\n",
      "Validation r2: 0.3488\n"
     ]
    }
   ],
   "source": [
    "lasso(X_train, X_test, y_train, y_test)"
   ]
  },
  {
   "cell_type": "code",
   "execution_count": 15,
   "metadata": {},
   "outputs": [
    {
     "name": "stdout",
     "output_type": "stream",
     "text": [
      "Ridge Regression\n",
      "\n",
      "Training r2: 0.3584\n",
      "Validation r2: 0.3487\n"
     ]
    }
   ],
   "source": [
    "ridge(X_train, X_test, y_train, y_test)"
   ]
  },
  {
   "cell_type": "code",
   "execution_count": 16,
   "metadata": {},
   "outputs": [
    {
     "name": "stdout",
     "output_type": "stream",
     "text": [
      "Lasso Regression with Polynomial Features\n",
      "\n",
      "Training r2: 0.3725\n",
      "Validation r2: 0.3655\n"
     ]
    }
   ],
   "source": [
    "#poly_lasso(X_train, X_test, y_train, y_test)"
   ]
  },
  {
   "cell_type": "code",
   "execution_count": 17,
   "metadata": {},
   "outputs": [
    {
     "name": "stdout",
     "output_type": "stream",
     "text": [
      "Ridge Regression with Polynomial Features\n",
      "\n",
      "Training r2: 0.3885\n",
      "Validation r2: 0.3465\n"
     ]
    }
   ],
   "source": [
    "#poly_ridge(X_train, X_test, y_train, y_test)"
   ]
  },
  {
   "cell_type": "code",
   "execution_count": 19,
   "metadata": {},
   "outputs": [
    {
     "name": "stdout",
     "output_type": "stream",
     "text": [
      "XGBoost\n",
      "\n",
      "Training r2: 0.6446\n",
      "Validation r2: 0.4855\n"
     ]
    },
    {
     "data": {
      "image/png": "[encoded data removed]",
      "text/plain": [
       "<Figure size 1008x576 with 1 Axes>"
      ]
     },
     "metadata": {
      "needs_background": "light"
     },
     "output_type": "display_data"
    }
   ],
   "source": [
    "boost(X_train, X_test, y_train, y_test)"
   ]
  },
  {
   "cell_type": "markdown",
   "metadata": {},
   "source": [
    "## Data with new variables "
   ]
  },
  {
   "cell_type": "code",
   "execution_count": null,
   "metadata": {},
   "outputs": [],
   "source": [
    "X = data_for_modeling.drop('price', axis=1)\n",
    "y = data_for_modeling.price\n",
    "X_train, X_test, y_train, y_test = train_test_split(X, y, test_size=0.2)"
   ]
  },
  {
   "cell_type": "code",
   "execution_count": null,
   "metadata": {},
   "outputs": [],
   "source": [
    "linreg(X_train, X_test, y_train, y_test)"
   ]
  },
  {
   "cell_type": "code",
   "execution_count": null,
   "metadata": {},
   "outputs": [],
   "source": [
    "lasso(X_train, X_test, y_train, y_test)"
   ]
  },
  {
   "cell_type": "code",
   "execution_count": null,
   "metadata": {},
   "outputs": [],
   "source": [
    "ridge(X_train, X_test, y_train, y_test)"
   ]
  },
  {
   "cell_type": "code",
   "execution_count": null,
   "metadata": {},
   "outputs": [],
   "source": [
    "poly_lasso(X_train, X_test, y_train, y_test)"
   ]
  },
  {
   "cell_type": "code",
   "execution_count": null,
   "metadata": {},
   "outputs": [],
   "source": [
    "poly_ridge(X_train, X_test, y_train, y_test)"
   ]
  },
  {
   "cell_type": "code",
   "execution_count": null,
   "metadata": {},
   "outputs": [],
   "source": [
    "boost(X_train, X_test, y_train, y_test)"
   ]
  },
  {
   "cell_type": "code",
   "execution_count": null,
   "metadata": {},
   "outputs": [],
   "source": []
  },
  {
   "cell_type": "code",
   "execution_count": null,
   "metadata": {},
   "outputs": [],
   "source": []
  }
 ],
 "metadata": {
  "kernelspec": {
   "display_name": "ox",
   "language": "python",
   "name": "ox"
  },
  "language_info": {
   "codemirror_mode": {
    "name": "ipython",
    "version": 3
   },
   "file_extension": ".py",
   "mimetype": "text/x-python",
   "name": "python",
   "nbconvert_exporter": "python",
   "pygments_lexer": "ipython3",
   "version": "3.8.5"
  }
 },
 "nbformat": 4,
 "nbformat_minor": 4
}